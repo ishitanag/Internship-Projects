{
  "nbformat": 4,
  "nbformat_minor": 0,
  "metadata": {
    "colab": {
      "name": "Chatbot.ipynb",
      "provenance": []
    },
    "kernelspec": {
      "name": "python3",
      "display_name": "Python 3"
    },
    "language_info": {
      "name": "python"
    }
  },
  "cells": [
    {
      "cell_type": "markdown",
      "metadata": {
        "id": "E4AYGstRjQRb"
      },
      "source": [
        "### The Intern Academy\n",
        "Task 2: Chatbot Creation\n",
        "By Ishita Nag"
      ]
    },
    {
      "cell_type": "code",
      "metadata": {
        "id": "AMkHDOC8KBkg"
      },
      "source": [
        "import nltk\n",
        "import numpy as np\n",
        "import random\n",
        "import string"
      ],
      "execution_count": null,
      "outputs": []
    },
    {
      "cell_type": "code",
      "metadata": {
        "id": "0bqlU-FYKdDK",
        "colab": {
          "base_uri": "https://localhost:8080/"
        },
        "outputId": "75eb0bc3-5f6e-4a88-c2aa-b71c08f8ad51"
      },
      "source": [
        "f=open('conversations.json','r',errors = 'ignore')\n",
        "raw=f.read\n",
        "\n",
        "nltk.download('punkt')\n",
        "nltk.download('wordnet')"
      ],
      "execution_count": null,
      "outputs": [
        {
          "output_type": "stream",
          "text": [
            "[nltk_data] Downloading package punkt to /root/nltk_data...\n",
            "[nltk_data]   Unzipping tokenizers/punkt.zip.\n",
            "[nltk_data] Downloading package wordnet to /root/nltk_data...\n",
            "[nltk_data]   Unzipping corpora/wordnet.zip.\n"
          ],
          "name": "stdout"
        },
        {
          "output_type": "execute_result",
          "data": {
            "text/plain": [
              "True"
            ]
          },
          "metadata": {
            "tags": []
          },
          "execution_count": 2
        }
      ]
    },
    {
      "cell_type": "code",
      "metadata": {
        "id": "TJrhE0WYaZBc"
      },
      "source": [
        "from nltk.tag import pos_tag\n",
        "from nltk.tokenize import word_tokenize\n",
        "from nltk.stem import WordNetLemmatizer"
      ],
      "execution_count": null,
      "outputs": []
    },
    {
      "cell_type": "code",
      "metadata": {
        "id": "rmCeddyNaq40"
      },
      "source": [
        "lemmer = nltk.stem.WordNetLemmatizer()\n",
        "\n",
        "def lemtokens(tokens):\n",
        "  return [lemmer.lemmatize(token) for token in tokens]\n",
        "remove_punct_dict = dict((ord(punct), None) for punct in string.punctuation)\n",
        "\n",
        "def lemNormalize(text):\n",
        "  return lemtokens(nltk.word_tokenize(text.lower().translate(remove_punct_dict)))"
      ],
      "execution_count": null,
      "outputs": []
    },
    {
      "cell_type": "code",
      "metadata": {
        "id": "ECUq-d7Zax1e"
      },
      "source": [
        "GREETING_INPUTS = ('hello', 'hi', 'greetings', 'sup', \"what's up\", 'hey',)\n",
        "GREETING_RESPONSES = ['hi', 'hey', 'nods', ' hi there','hello']\n",
        "def greeting(sentence):\n",
        "  for word in sentence.split():\n",
        "    if word.lower() in GREETING_INPUTS:\n",
        "      return random.choice(GREETING_RESPONSES)"
      ],
      "execution_count": null,
      "outputs": []
    },
    {
      "cell_type": "code",
      "metadata": {
        "id": "dhEbGWlia2uO"
      },
      "source": [
        "from sklearn.feature_extraction.text import TfidfVectorizer\n",
        "from sklearn.metrics.pairwise import cosine_similarity"
      ],
      "execution_count": null,
      "outputs": []
    },
    {
      "cell_type": "code",
      "metadata": {
        "id": "CaNM48WRa6iB"
      },
      "source": [
        "def response(user_response):\n",
        "  robo_response=''\n",
        "  sent_tokens.append(user_response)\n",
        "  TfidVec = TfidfVectorizer(tokenizer=LemNormalize, stop_words='english')\n",
        "  tfidf= TfidfVec.fit.transform(sent_tokens)\n",
        "  vals = cosine_similarity(tfidf[-1], tfidf)\n",
        "  idx = vals.argsort()[0][-2]\n",
        "  flat = vlas.flatten()\n",
        "  flat.sort()\n",
        "  reg_tfidf = flat[-2]\n",
        "  if(reg_tfidf==0):\n",
        "    robo_response = robo_response+\"I am sorry! I don't understand you\"\n",
        "    return robo_response\n",
        "  else:\n",
        "    robo_response = robo_response+\"sent_tokens[idx]\"\n",
        "  return robo_response"
      ],
      "execution_count": null,
      "outputs": []
    },
    {
      "cell_type": "code",
      "metadata": {
        "colab": {
          "base_uri": "https://localhost:8080/"
        },
        "id": "PN1SXrcwbBvd",
        "outputId": "077f84ed-c310-4fae-d9b9-54adccdd36a1"
      },
      "source": [
        "flag=True\n",
        "print(\"Chatbot: My name is Pal! If you want to quit, just type Bye anytime!!\")\n",
        "while(flag==True):\n",
        "  user_response = input()\n",
        "  user_response = user_response.lower()\n",
        "  if(user_response!='bye'):\n",
        "    if(user_response=='thanks' or user_response=='thank you'):\n",
        "      flag=False\n",
        "      print(\"Pal: You're welcome!\")\n",
        "    else:\n",
        "      if(greeting(user_response)!=None):\n",
        "        print(\"Pal: \"+greeting(user_response))\n",
        "      else:\n",
        "        print(\"Pal: \", end=\"Can't understand you\")\n",
        "  else:\n",
        "    flag=False\n",
        "    print(\"Pal: Thanks for talking, bye bye!\")"
      ],
      "execution_count": null,
      "outputs": [
        {
          "output_type": "stream",
          "text": [
            "Chatbot: My name is Pal! If you want to quit, just type Bye anytime!!\n",
            "hi\n",
            "Pal:  hi there\n",
            "dsvdjvsjd\n",
            "Pal: Can't understand youbye\n",
            "Pal: Thanks for talking, bye bye!\n"
          ],
          "name": "stdout"
        }
      ]
    },
    {
      "cell_type": "code",
      "metadata": {
        "id": "oST24IeebFUb"
      },
      "source": [
        ""
      ],
      "execution_count": null,
      "outputs": []
    }
  ]
}